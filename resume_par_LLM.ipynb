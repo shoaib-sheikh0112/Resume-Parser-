{
 "cells": [
  {
   "cell_type": "code",
   "execution_count": null,
   "metadata": {},
   "outputs": [],
   "source": [
    "from pypdf import PdfReader\n",
    "from docx import Document\n",
    "import google.generativeai as genai\n",
    "genai.configure(api_key=\"ENTER_YOUR_KEY\")\n",
    "\n",
    "def extract_text_from_pdf(pdf_path):\n",
    "    text = \"\"\n",
    "    with open(pdf_path, \"rb\") as f:\n",
    "        reader = PdfReader(f)\n",
    "        for page in reader.pages:\n",
    "            text += page.extract_text() + \"\\n\"\n",
    "    return text\n",
    " \n",
    "def extract_text_from_docx(docx_path):\n",
    "    text = \"\"\n",
    "    doc = Document(docx_path)\n",
    "    for paragraph in doc.paragraphs:\n",
    "        text += paragraph.text + \"\\n\"\n",
    "    return text\n",
    " \n",
    "file_path =\"8.03_yrs.pdf\" # change pfd or docx accordingly\n",
    " \n",
    " \n",
    "if file_path.endswith('.pdf'):\n",
    "    extracted_text = extract_text_from_pdf(file_path)\n",
    "elif file_path.endswith('.docx'):\n",
    "    extracted_text = extract_text_from_docx(file_path)\n",
    "else:\n",
    "    raise ValueError(\"Unsupported file type, Only pdf or docx is acceptrd \")\n",
    "\n",
    "print(extracted_text)    \n",
    "\n",
    "def get_gemini_repsonse(input):\n",
    "    model=genai.GenerativeModel('gemini-pro')\n",
    "    response=model.generate_content(input)\n",
    "    return response.text\n",
    "input_prompt= '''\n",
    "    You are an AI bot designed to act as a professional for parsing resumes. You are given with resume and your job is to extract the following information from the resume:\n",
    "    1. full name\n",
    "    2. email id\n",
    "    3. phone number\n",
    "    4. college details, school details\n",
    "    5. employment details\n",
    "    6. technical skills\n",
    "    7. certifications\n",
    "    8. projects only name of projects, dont show responsibility \n",
    "    \n",
    "    '''+ extracted_text\n",
    "response = get_gemini_repsonse(input_prompt)\n",
    "print(\"Gemini Model Response:\", response)"
   ]
  }
 ],
 "metadata": {
  "language_info": {
   "name": "python"
  }
 },
 "nbformat": 4,
 "nbformat_minor": 2
}
